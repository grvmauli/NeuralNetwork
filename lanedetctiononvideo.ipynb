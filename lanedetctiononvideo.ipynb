{
 "cells": [
  {
   "cell_type": "code",
   "execution_count": 1,
   "id": "b0a984bf",
   "metadata": {},
   "outputs": [],
   "source": [
    "import cv2\n",
    "import numpy as np"
   ]
  },
  {
   "cell_type": "code",
   "execution_count": 2,
   "id": "f72c8b09",
   "metadata": {},
   "outputs": [],
   "source": [
    "def grayscale(img):\n",
    "    return cv2.cvtColor(img, cv2.COLOR_BGR2GRAY)"
   ]
  },
  {
   "cell_type": "code",
   "execution_count": 3,
   "id": "2eec85e6",
   "metadata": {},
   "outputs": [],
   "source": [
    "def gaussian_blur(img, kernel_size):\n",
    "    return cv2.GaussianBlur(img, (kernel_size, kernel_size), 0)"
   ]
  },
  {
   "cell_type": "code",
   "execution_count": 4,
   "id": "d230832a",
   "metadata": {},
   "outputs": [],
   "source": [
    "def canny(img, low_threshold, high_threshold):\n",
    "    return cv2.Canny(img, low_threshold, high_threshold)"
   ]
  },
  {
   "cell_type": "code",
   "execution_count": 5,
   "id": "c53c27bf",
   "metadata": {},
   "outputs": [],
   "source": [
    "def region_of_interest(img, vertices):\n",
    "    mask = np.zeros_like(img)\n",
    "    cv2.fillPoly(mask, vertices, 255)\n",
    "    masked_img = cv2.bitwise_and(img, mask)\n",
    "    return masked_img"
   ]
  },
  {
   "cell_type": "code",
   "execution_count": 6,
   "id": "e5d0df6d",
   "metadata": {},
   "outputs": [],
   "source": [
    "def hough_lines(img, rho, theta, threshold, min_line_len, max_line_gap):\n",
    "    return cv2.HoughLinesP(img, rho, theta, threshold, np.array([]), minLineLength=min_line_len, maxLineGap=max_line_gap)"
   ]
  },
  {
   "cell_type": "code",
   "execution_count": 7,
   "id": "d05f93c9",
   "metadata": {},
   "outputs": [],
   "source": [
    "def draw_lines(img, lines, color=[255, 0, 0], thickness=2):\n",
    "    for line in lines:\n",
    "        for x1, y1, x2, y2 in line:\n",
    "            cv2.line(img, (x1, y1), (x2, y2), color, thickness)\n"
   ]
  },
  {
   "cell_type": "code",
   "execution_count": 8,
   "id": "e33502bf",
   "metadata": {},
   "outputs": [],
   "source": [
    "\n",
    "def weighted_img(img, initial_img, α=0.8, β=1., λ=0.):\n",
    "    return cv2.addWeighted(initial_img, α, img, β, λ)"
   ]
  },
  {
   "cell_type": "code",
   "execution_count": 9,
   "id": "ff4ac99b",
   "metadata": {},
   "outputs": [],
   "source": [
    "def process_frame(frame):\n",
    "    gray = grayscale(frame)\n",
    "    blur = gaussian_blur(gray, 5)\n",
    "    edges = canny(blur, 50, 150)\n",
    "    \n",
    "    imshape = frame.shape\n",
    "    vertices = np.array([[(0, imshape[0]), (450, 320), (490, 320), (imshape[1], imshape[0])]], dtype=np.int32)\n",
    "    roi_edges = region_of_interest(edges, vertices)\n",
    "    \n",
    "    lines = hough_lines(roi_edges, 1, np.pi/180, 15, 40, 20)\n",
    "    \n",
    "    line_img = np.zeros((frame.shape[0], frame.shape[1], 3), dtype=np.uint8)\n",
    "    if lines is not None:\n",
    "        draw_lines(line_img, lines)\n",
    "    \n",
    "    result = weighted_img(line_img, frame)\n",
    "    return result"
   ]
  },
  {
   "cell_type": "code",
   "execution_count": 11,
   "id": "04bef2c7",
   "metadata": {},
   "outputs": [],
   "source": [
    "# Load video\n",
    "cap = cv2.VideoCapture(\"C:/Users/gaurav/Videos/test_video.mp4\")"
   ]
  },
  {
   "cell_type": "code",
   "execution_count": 17,
   "id": "e9ae7dff",
   "metadata": {},
   "outputs": [
    {
     "name": "stdout",
     "output_type": "stream",
     "text": [
      "Output video saved as C:/Users/gaurav/Videos/output_video.mp4\n"
     ]
    }
   ],
   "source": [
    "# Load video\n",
    "input_video = 'C:/Users/gaurav/Videos/test_video.mp4'\n",
    "output_video = 'C:/Users/gaurav/Videos/output_video.mp4'\n",
    "\n",
    "cap = cv2.VideoCapture(input_video)\n",
    "\n",
    "if not cap.isOpened():\n",
    "    print(\"Error: Could not open video.\")\n",
    "else:\n",
    "    # Get video properties\n",
    "    frame_width = int(cap.get(cv2.CAP_PROP_FRAME_WIDTH))\n",
    "    frame_height = int(cap.get(cv2.CAP_PROP_FRAME_HEIGHT))\n",
    "    fps = cap.get(cv2.CAP_PROP_FPS)\n",
    "    \n",
    "    # Define the codec and create VideoWriter object\n",
    "    fourcc = cv2.VideoWriter_fourcc(*'mp4v')\n",
    "    out = cv2.VideoWriter(output_video, fourcc, fps, (frame_width, frame_height))\n",
    "    \n",
    "    while(cap.isOpened()):\n",
    "        ret, frame = cap.read()\n",
    "        if ret:\n",
    "            result = process_frame(frame)\n",
    "            out.write(result)\n",
    "        else:\n",
    "            break\n",
    "\n",
    "    cap.release()\n",
    "    out.release()\n",
    "    print(f\"Output video saved as {output_video}\")"
   ]
  },
  {
   "cell_type": "code",
   "execution_count": null,
   "id": "55554900",
   "metadata": {},
   "outputs": [],
   "source": []
  }
 ],
 "metadata": {
  "kernelspec": {
   "display_name": "Python 3 (ipykernel)",
   "language": "python",
   "name": "python3"
  },
  "language_info": {
   "codemirror_mode": {
    "name": "ipython",
    "version": 3
   },
   "file_extension": ".py",
   "mimetype": "text/x-python",
   "name": "python",
   "nbconvert_exporter": "python",
   "pygments_lexer": "ipython3",
   "version": "3.9.13"
  }
 },
 "nbformat": 4,
 "nbformat_minor": 5
}
